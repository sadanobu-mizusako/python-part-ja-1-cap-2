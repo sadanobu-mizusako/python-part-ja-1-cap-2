{
 "cells": [
  {
   "cell_type": "code",
   "execution_count": 49,
   "metadata": {},
   "outputs": [],
   "source": [
    "import pandas as pd\n",
    "from selenium import webdriver\n",
    "from selenium.webdriver.common.by import By\n",
    "import time\n",
    "\n",
    "web_driver = webdriver.Chrome()"
   ]
  },
  {
   "cell_type": "code",
   "execution_count": null,
   "metadata": {},
   "outputs": [],
   "source": [
    "ress_parts = []\n",
    "ress_models = []\n",
    "ress_grades = []\n",
    "\n",
    "\n",
    "# 車種選択画面\n",
    "\n",
    "web_driver.get(\"https://toyota.jp/service/estimate/options\")\n",
    "time.sleep(5)\n",
    "elms_cars = web_driver.find_elements(By.CLASS_NAME, \"myt-cars-module\")\n",
    "\n",
    "for model_id in range(len(elms_cars)):\n",
    "    if model_id>0:\n",
    "        web_driver.get(\"https://toyota.jp/service/estimate/options\")\n",
    "        time.sleep(5)\n",
    "        elms_cars = web_driver.find_elements(By.CLASS_NAME, \"myt-cars-module\")\n",
    "    car_elm = elms_cars[model_id]\n",
    "    car_data = car_elm.text\n",
    "    car_data_list = car_data.split(\"\\n\")\n",
    "    res_car = {\n",
    "        \"model_id\": model_id,\n",
    "        \"model_name\": car_data_list[0],\n",
    "        \"price_low\": car_data_list[1].replace(\"円（税込）\", \"\").replace(\"～\", \"\").replace(\",\", \"\"),\n",
    "        \"price_high\": (\n",
    "            car_data_list[2].replace(\"円（税込）\", \"\").replace(\"～\", \"\").replace(\",\", \"\") if len(car_data_list)==3 \n",
    "            else car_data_list[1].replace(\"円（税込）\", \"\").replace(\"～\", \"\").replace(\",\", \"\")\n",
    "        ),\n",
    "        \"img_url\": car_elm.find_element(By.TAG_NAME, \"img\").get_attribute(name=\"src\")\n",
    "    }\n",
    "\n",
    "    # 対象車種ページに移動\n",
    "    car_elm.click()\n",
    "    ress_models.append(res_car)\n",
    "    time.sleep(5)\n",
    "\n",
    "    # グレード選択\n",
    "    elms = web_driver.find_elements(By.CLASS_NAME, \"myt-register-header-carname-area-subunit\")\n",
    "    elms[0].click()#グレードを変更する\n",
    "    time.sleep(5)\n",
    "    grade_elms = web_driver.find_elements(By.CLASS_NAME, \"gtmModal.myt-grade-module\")#グレードの取得\n",
    "    # for grade_id in range(len(grade_elms)):\n",
    "    for grade_id in range(len(grade_elms)):\n",
    "        if grade_id>0:\n",
    "                elms = web_driver.find_elements(By.CLASS_NAME, \"myt-register-header-carname-area-subunit\")\n",
    "                elms[0].click()#グレードを変更する\n",
    "                time.sleep(3)\n",
    "                grade_elms = web_driver.find_elements(By.CLASS_NAME, \"gtmModal.myt-grade-module\")#グレードの取得\n",
    "        elm_grade = grade_elms[grade_id]\n",
    "        grade_text_list = elm_grade.text.split(\"\\n\")\n",
    "        res_grade = {\n",
    "            \"model_id\": model_id,\n",
    "            \"grade_id\": grade_id,\n",
    "            \"grade_name\": grade_text_list[0],\n",
    "            \"price\": grade_text_list[1].replace(\",\", \"\").replace(\" \", \"\").replace(\"円\", \"\"),\n",
    "            \"desc\": grade_text_list[2],\n",
    "        }\n",
    "        ress_grades.append(res_grade)\n",
    "        print(res_grade)\n",
    "        elm_grade.click() #OK\n",
    "        time.sleep(5)\n",
    "        elms = web_driver.find_elements(By.CLASS_NAME, \"myt-btn.myt-btn--red.myt-btn--half-pc\")#対象グレードのページに遷移\n",
    "        try:\n",
    "            elms[0].click()\n",
    "            time.sleep(5)\n",
    "        except:\n",
    "             pass\n",
    "    \n",
    "        # オプション選択\n",
    "        elms = web_driver.find_elements(By.CLASS_NAME, \"myt-estimate-sim-btn-inner\")\n",
    "        elms[1].click()#オプションを開く\n",
    "        time.sleep(4)\n",
    "\n",
    "        elms = web_driver.find_elements(By.CLASS_NAME, \"myt-estimate-sim-option\")\n",
    "        elms_parts = elms[0].find_elements(By.CLASS_NAME, \"myt-estimate-sim-option-unit-detail\")\n",
    "        elms_parts_img = elms[0].find_elements(By.CLASS_NAME, \"myt-estimate-sim-option-unit-thumb\")\n",
    "        for option_id in range(len(elms_parts)):\n",
    "            res_text = elms_parts[option_id].text.split(\"\\n\")\n",
    "            res_option = {\n",
    "                \"option_id\":option_id,\n",
    "                \"grade_id\":grade_id,\n",
    "                \"model_id\": model_id,\n",
    "                \"name\": res_text[0],\n",
    "                \"type\": res_text[1],\n",
    "                \"price\": res_text[2].replace(\",\", \"\").replace(\"円\", \"\"),\n",
    "                \"img_url\": elms_parts_img[option_id].find_element(By.TAG_NAME, \"img\").get_attribute(name=\"src\")\n",
    "            }\n",
    "            ress_parts.append(res_option)\n",
    "        web_driver.find_elements(By.CLASS_NAME, \"myt-content-header__back\")[0].click()\n",
    "        time.sleep(10)"
   ]
  },
  {
   "cell_type": "code",
   "execution_count": 52,
   "metadata": {},
   "outputs": [],
   "source": [
    "pd.DataFrame(ress_parts).to_csv(\"../asset/exterior_parts.csv\")"
   ]
  },
  {
   "cell_type": "code",
   "execution_count": 53,
   "metadata": {},
   "outputs": [],
   "source": [
    "pd.DataFrame(ress_models).to_csv(\"../asset/models.csv\")"
   ]
  },
  {
   "cell_type": "code",
   "execution_count": null,
   "metadata": {},
   "outputs": [],
   "source": [
    "pd.DataFrame(ress_grades).to_csv(\"../asset/grades.csv\")"
   ]
  }
 ],
 "metadata": {
  "kernelspec": {
   "display_name": "Python 3",
   "language": "python",
   "name": "python3"
  },
  "language_info": {
   "codemirror_mode": {
    "name": "ipython",
    "version": 3
   },
   "file_extension": ".py",
   "mimetype": "text/x-python",
   "name": "python",
   "nbconvert_exporter": "python",
   "pygments_lexer": "ipython3",
   "version": "3.11.0"
  }
 },
 "nbformat": 4,
 "nbformat_minor": 2
}
